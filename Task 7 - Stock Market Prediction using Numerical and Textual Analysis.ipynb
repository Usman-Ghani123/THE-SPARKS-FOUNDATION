{
 "cells": [
  {
   "cell_type": "markdown",
   "metadata": {},
   "source": [
    "## **AUTHOR: SYED MUHAMMAD USMAN GHANI**\n",
    "\n",
    "**Task 7 - Stock Market Prediction using Numerical and Textual Analysis**\n",
    "\n",
    "**@SPARKS FOUNDATION**\n",
    "\n",
    "- **Objective: Create a hybrid model for stock price/performance prediction using numerical analysis of historical stock prices and sentimental analysis of news headlines**\n",
    "\n",
    "- **Stock to analyze and predict - SENSEX (S&P BSE SENSEX)**"
   ]
  },
  {
   "cell_type": "markdown",
   "metadata": {},
   "source": [
    "## DECLARING LIBRARIES"
   ]
  },
  {
   "cell_type": "code",
   "execution_count": 38,
   "metadata": {},
   "outputs": [],
   "source": [
    "import pandas as pd\n",
    "import numpy as np\n",
    "import plotly.express as px\n",
    "import plotly.graph_objects as go"
   ]
  },
  {
   "cell_type": "markdown",
   "metadata": {},
   "source": [
    "## LOADING DATAFRAMES"
   ]
  },
  {
   "cell_type": "code",
   "execution_count": 62,
   "metadata": {},
   "outputs": [],
   "source": [
    "stock_prices = pd.read_csv('BSESN.csv')\n",
    "news_headline = pd.read_csv('india-news-headlines.csv')"
   ]
  },
  {
   "cell_type": "markdown",
   "metadata": {},
   "source": [
    "## Manipulating STOCKS DATA"
   ]
  },
  {
   "cell_type": "code",
   "execution_count": 63,
   "metadata": {},
   "outputs": [
    {
     "data": {
      "text/html": [
       "<div>\n",
       "<style scoped>\n",
       "    .dataframe tbody tr th:only-of-type {\n",
       "        vertical-align: middle;\n",
       "    }\n",
       "\n",
       "    .dataframe tbody tr th {\n",
       "        vertical-align: top;\n",
       "    }\n",
       "\n",
       "    .dataframe thead th {\n",
       "        text-align: right;\n",
       "    }\n",
       "</style>\n",
       "<table border=\"1\" class=\"dataframe\">\n",
       "  <thead>\n",
       "    <tr style=\"text-align: right;\">\n",
       "      <th></th>\n",
       "      <th>Date</th>\n",
       "      <th>Open</th>\n",
       "      <th>High</th>\n",
       "      <th>Low</th>\n",
       "      <th>Close</th>\n",
       "      <th>Adj Close</th>\n",
       "      <th>Volume</th>\n",
       "    </tr>\n",
       "  </thead>\n",
       "  <tbody>\n",
       "    <tr>\n",
       "      <th>0</th>\n",
       "      <td>2020-02-17</td>\n",
       "      <td>41324.039063</td>\n",
       "      <td>41420.339844</td>\n",
       "      <td>41030.578125</td>\n",
       "      <td>41055.691406</td>\n",
       "      <td>41055.691406</td>\n",
       "      <td>6900.0</td>\n",
       "    </tr>\n",
       "    <tr>\n",
       "      <th>1</th>\n",
       "      <td>2020-02-18</td>\n",
       "      <td>41042.460938</td>\n",
       "      <td>41042.460938</td>\n",
       "      <td>40610.949219</td>\n",
       "      <td>40894.378906</td>\n",
       "      <td>40894.378906</td>\n",
       "      <td>12300.0</td>\n",
       "    </tr>\n",
       "    <tr>\n",
       "      <th>2</th>\n",
       "      <td>2020-02-19</td>\n",
       "      <td>41121.511719</td>\n",
       "      <td>41357.160156</td>\n",
       "      <td>41048.929688</td>\n",
       "      <td>41323.000000</td>\n",
       "      <td>41323.000000</td>\n",
       "      <td>5600.0</td>\n",
       "    </tr>\n",
       "    <tr>\n",
       "      <th>3</th>\n",
       "      <td>2020-02-20</td>\n",
       "      <td>41334.960938</td>\n",
       "      <td>41399.929688</td>\n",
       "      <td>41134.308594</td>\n",
       "      <td>41170.121094</td>\n",
       "      <td>41170.121094</td>\n",
       "      <td>8400.0</td>\n",
       "    </tr>\n",
       "    <tr>\n",
       "      <th>4</th>\n",
       "      <td>2020-02-24</td>\n",
       "      <td>41037.011719</td>\n",
       "      <td>41037.011719</td>\n",
       "      <td>40306.359375</td>\n",
       "      <td>40363.230469</td>\n",
       "      <td>40363.230469</td>\n",
       "      <td>8100.0</td>\n",
       "    </tr>\n",
       "    <tr>\n",
       "      <th>...</th>\n",
       "      <td>...</td>\n",
       "      <td>...</td>\n",
       "      <td>...</td>\n",
       "      <td>...</td>\n",
       "      <td>...</td>\n",
       "      <td>...</td>\n",
       "      <td>...</td>\n",
       "    </tr>\n",
       "    <tr>\n",
       "      <th>246</th>\n",
       "      <td>2021-02-11</td>\n",
       "      <td>51165.839844</td>\n",
       "      <td>51592.449219</td>\n",
       "      <td>51157.308594</td>\n",
       "      <td>51531.519531</td>\n",
       "      <td>51531.519531</td>\n",
       "      <td>12100.0</td>\n",
       "    </tr>\n",
       "    <tr>\n",
       "      <th>247</th>\n",
       "      <td>2021-02-12</td>\n",
       "      <td>51614.769531</td>\n",
       "      <td>51804.578125</td>\n",
       "      <td>51260.621094</td>\n",
       "      <td>51544.300781</td>\n",
       "      <td>51544.300781</td>\n",
       "      <td>15100.0</td>\n",
       "    </tr>\n",
       "    <tr>\n",
       "      <th>248</th>\n",
       "      <td>2021-02-15</td>\n",
       "      <td>NaN</td>\n",
       "      <td>NaN</td>\n",
       "      <td>NaN</td>\n",
       "      <td>NaN</td>\n",
       "      <td>NaN</td>\n",
       "      <td>NaN</td>\n",
       "    </tr>\n",
       "    <tr>\n",
       "      <th>249</th>\n",
       "      <td>2021-02-16</td>\n",
       "      <td>52400.031250</td>\n",
       "      <td>52516.761719</td>\n",
       "      <td>51863.609375</td>\n",
       "      <td>52104.171875</td>\n",
       "      <td>52104.171875</td>\n",
       "      <td>21100.0</td>\n",
       "    </tr>\n",
       "    <tr>\n",
       "      <th>250</th>\n",
       "      <td>2021-02-17</td>\n",
       "      <td>51996.941406</td>\n",
       "      <td>52078.148438</td>\n",
       "      <td>51586.339844</td>\n",
       "      <td>51703.828125</td>\n",
       "      <td>51703.828125</td>\n",
       "      <td>0.0</td>\n",
       "    </tr>\n",
       "  </tbody>\n",
       "</table>\n",
       "<p>251 rows × 7 columns</p>\n",
       "</div>"
      ],
      "text/plain": [
       "           Date          Open          High           Low         Close  \\\n",
       "0    2020-02-17  41324.039063  41420.339844  41030.578125  41055.691406   \n",
       "1    2020-02-18  41042.460938  41042.460938  40610.949219  40894.378906   \n",
       "2    2020-02-19  41121.511719  41357.160156  41048.929688  41323.000000   \n",
       "3    2020-02-20  41334.960938  41399.929688  41134.308594  41170.121094   \n",
       "4    2020-02-24  41037.011719  41037.011719  40306.359375  40363.230469   \n",
       "..          ...           ...           ...           ...           ...   \n",
       "246  2021-02-11  51165.839844  51592.449219  51157.308594  51531.519531   \n",
       "247  2021-02-12  51614.769531  51804.578125  51260.621094  51544.300781   \n",
       "248  2021-02-15           NaN           NaN           NaN           NaN   \n",
       "249  2021-02-16  52400.031250  52516.761719  51863.609375  52104.171875   \n",
       "250  2021-02-17  51996.941406  52078.148438  51586.339844  51703.828125   \n",
       "\n",
       "        Adj Close   Volume  \n",
       "0    41055.691406   6900.0  \n",
       "1    40894.378906  12300.0  \n",
       "2    41323.000000   5600.0  \n",
       "3    41170.121094   8400.0  \n",
       "4    40363.230469   8100.0  \n",
       "..            ...      ...  \n",
       "246  51531.519531  12100.0  \n",
       "247  51544.300781  15100.0  \n",
       "248           NaN      NaN  \n",
       "249  52104.171875  21100.0  \n",
       "250  51703.828125      0.0  \n",
       "\n",
       "[251 rows x 7 columns]"
      ]
     },
     "execution_count": 63,
     "metadata": {},
     "output_type": "execute_result"
    }
   ],
   "source": [
    "stock_prices"
   ]
  },
  {
   "cell_type": "code",
   "execution_count": 64,
   "metadata": {},
   "outputs": [
    {
     "data": {
      "text/plain": [
       "(251, 7)"
      ]
     },
     "execution_count": 64,
     "metadata": {},
     "output_type": "execute_result"
    }
   ],
   "source": [
    "np.shape(stock_prices)"
   ]
  },
  {
   "cell_type": "code",
   "execution_count": 65,
   "metadata": {},
   "outputs": [
    {
     "data": {
      "text/html": [
       "<div>\n",
       "<style scoped>\n",
       "    .dataframe tbody tr th:only-of-type {\n",
       "        vertical-align: middle;\n",
       "    }\n",
       "\n",
       "    .dataframe tbody tr th {\n",
       "        vertical-align: top;\n",
       "    }\n",
       "\n",
       "    .dataframe thead th {\n",
       "        text-align: right;\n",
       "    }\n",
       "</style>\n",
       "<table border=\"1\" class=\"dataframe\">\n",
       "  <thead>\n",
       "    <tr style=\"text-align: right;\">\n",
       "      <th></th>\n",
       "      <th>Open</th>\n",
       "      <th>High</th>\n",
       "      <th>Low</th>\n",
       "      <th>Close</th>\n",
       "      <th>Adj Close</th>\n",
       "      <th>Volume</th>\n",
       "    </tr>\n",
       "  </thead>\n",
       "  <tbody>\n",
       "    <tr>\n",
       "      <th>count</th>\n",
       "      <td>248.000000</td>\n",
       "      <td>248.000000</td>\n",
       "      <td>248.000000</td>\n",
       "      <td>248.000000</td>\n",
       "      <td>248.000000</td>\n",
       "      <td>248.000000</td>\n",
       "    </tr>\n",
       "    <tr>\n",
       "      <th>mean</th>\n",
       "      <td>39000.772697</td>\n",
       "      <td>39288.858320</td>\n",
       "      <td>38581.924813</td>\n",
       "      <td>38942.450597</td>\n",
       "      <td>38942.450597</td>\n",
       "      <td>20386.290323</td>\n",
       "    </tr>\n",
       "    <tr>\n",
       "      <th>std</th>\n",
       "      <td>6126.057272</td>\n",
       "      <td>6040.456990</td>\n",
       "      <td>6205.509568</td>\n",
       "      <td>6148.554755</td>\n",
       "      <td>6148.554755</td>\n",
       "      <td>16183.874289</td>\n",
       "    </tr>\n",
       "    <tr>\n",
       "      <th>min</th>\n",
       "      <td>26499.810547</td>\n",
       "      <td>27462.869141</td>\n",
       "      <td>25638.900391</td>\n",
       "      <td>25981.240234</td>\n",
       "      <td>25981.240234</td>\n",
       "      <td>0.000000</td>\n",
       "    </tr>\n",
       "    <tr>\n",
       "      <th>25%</th>\n",
       "      <td>34305.207031</td>\n",
       "      <td>34699.283203</td>\n",
       "      <td>33955.879883</td>\n",
       "      <td>34237.300781</td>\n",
       "      <td>34237.300781</td>\n",
       "      <td>14675.000000</td>\n",
       "    </tr>\n",
       "    <tr>\n",
       "      <th>50%</th>\n",
       "      <td>38476.410157</td>\n",
       "      <td>38742.685547</td>\n",
       "      <td>38217.509765</td>\n",
       "      <td>38413.355469</td>\n",
       "      <td>38413.355469</td>\n",
       "      <td>18300.000000</td>\n",
       "    </tr>\n",
       "    <tr>\n",
       "      <th>75%</th>\n",
       "      <td>43516.079102</td>\n",
       "      <td>43784.606445</td>\n",
       "      <td>43209.100586</td>\n",
       "      <td>43595.244141</td>\n",
       "      <td>43595.244141</td>\n",
       "      <td>22200.000000</td>\n",
       "    </tr>\n",
       "    <tr>\n",
       "      <th>max</th>\n",
       "      <td>52400.031250</td>\n",
       "      <td>52516.761719</td>\n",
       "      <td>51863.609375</td>\n",
       "      <td>52104.171875</td>\n",
       "      <td>52104.171875</td>\n",
       "      <td>188300.000000</td>\n",
       "    </tr>\n",
       "  </tbody>\n",
       "</table>\n",
       "</div>"
      ],
      "text/plain": [
       "               Open          High           Low         Close     Adj Close  \\\n",
       "count    248.000000    248.000000    248.000000    248.000000    248.000000   \n",
       "mean   39000.772697  39288.858320  38581.924813  38942.450597  38942.450597   \n",
       "std     6126.057272   6040.456990   6205.509568   6148.554755   6148.554755   \n",
       "min    26499.810547  27462.869141  25638.900391  25981.240234  25981.240234   \n",
       "25%    34305.207031  34699.283203  33955.879883  34237.300781  34237.300781   \n",
       "50%    38476.410157  38742.685547  38217.509765  38413.355469  38413.355469   \n",
       "75%    43516.079102  43784.606445  43209.100586  43595.244141  43595.244141   \n",
       "max    52400.031250  52516.761719  51863.609375  52104.171875  52104.171875   \n",
       "\n",
       "              Volume  \n",
       "count     248.000000  \n",
       "mean    20386.290323  \n",
       "std     16183.874289  \n",
       "min         0.000000  \n",
       "25%     14675.000000  \n",
       "50%     18300.000000  \n",
       "75%     22200.000000  \n",
       "max    188300.000000  "
      ]
     },
     "execution_count": 65,
     "metadata": {},
     "output_type": "execute_result"
    }
   ],
   "source": [
    "stock_prices.describe()"
   ]
  },
  {
   "cell_type": "code",
   "execution_count": 66,
   "metadata": {},
   "outputs": [],
   "source": [
    "stock_prices.dropna(inplace=True)"
   ]
  },
  {
   "cell_type": "code",
   "execution_count": 67,
   "metadata": {},
   "outputs": [
    {
     "data": {
      "text/html": [
       "<div>\n",
       "<style scoped>\n",
       "    .dataframe tbody tr th:only-of-type {\n",
       "        vertical-align: middle;\n",
       "    }\n",
       "\n",
       "    .dataframe tbody tr th {\n",
       "        vertical-align: top;\n",
       "    }\n",
       "\n",
       "    .dataframe thead th {\n",
       "        text-align: right;\n",
       "    }\n",
       "</style>\n",
       "<table border=\"1\" class=\"dataframe\">\n",
       "  <thead>\n",
       "    <tr style=\"text-align: right;\">\n",
       "      <th></th>\n",
       "      <th>Date</th>\n",
       "      <th>Open</th>\n",
       "      <th>High</th>\n",
       "      <th>Low</th>\n",
       "      <th>Close</th>\n",
       "      <th>Adj Close</th>\n",
       "      <th>Volume</th>\n",
       "    </tr>\n",
       "  </thead>\n",
       "  <tbody>\n",
       "    <tr>\n",
       "      <th>0</th>\n",
       "      <td>2020-02-17</td>\n",
       "      <td>41324.039063</td>\n",
       "      <td>41420.339844</td>\n",
       "      <td>41030.578125</td>\n",
       "      <td>41055.691406</td>\n",
       "      <td>41055.691406</td>\n",
       "      <td>6900.0</td>\n",
       "    </tr>\n",
       "    <tr>\n",
       "      <th>1</th>\n",
       "      <td>2020-02-18</td>\n",
       "      <td>41042.460938</td>\n",
       "      <td>41042.460938</td>\n",
       "      <td>40610.949219</td>\n",
       "      <td>40894.378906</td>\n",
       "      <td>40894.378906</td>\n",
       "      <td>12300.0</td>\n",
       "    </tr>\n",
       "    <tr>\n",
       "      <th>2</th>\n",
       "      <td>2020-02-19</td>\n",
       "      <td>41121.511719</td>\n",
       "      <td>41357.160156</td>\n",
       "      <td>41048.929688</td>\n",
       "      <td>41323.000000</td>\n",
       "      <td>41323.000000</td>\n",
       "      <td>5600.0</td>\n",
       "    </tr>\n",
       "    <tr>\n",
       "      <th>3</th>\n",
       "      <td>2020-02-20</td>\n",
       "      <td>41334.960938</td>\n",
       "      <td>41399.929688</td>\n",
       "      <td>41134.308594</td>\n",
       "      <td>41170.121094</td>\n",
       "      <td>41170.121094</td>\n",
       "      <td>8400.0</td>\n",
       "    </tr>\n",
       "    <tr>\n",
       "      <th>4</th>\n",
       "      <td>2020-02-24</td>\n",
       "      <td>41037.011719</td>\n",
       "      <td>41037.011719</td>\n",
       "      <td>40306.359375</td>\n",
       "      <td>40363.230469</td>\n",
       "      <td>40363.230469</td>\n",
       "      <td>8100.0</td>\n",
       "    </tr>\n",
       "  </tbody>\n",
       "</table>\n",
       "</div>"
      ],
      "text/plain": [
       "         Date          Open          High           Low         Close  \\\n",
       "0  2020-02-17  41324.039063  41420.339844  41030.578125  41055.691406   \n",
       "1  2020-02-18  41042.460938  41042.460938  40610.949219  40894.378906   \n",
       "2  2020-02-19  41121.511719  41357.160156  41048.929688  41323.000000   \n",
       "3  2020-02-20  41334.960938  41399.929688  41134.308594  41170.121094   \n",
       "4  2020-02-24  41037.011719  41037.011719  40306.359375  40363.230469   \n",
       "\n",
       "      Adj Close   Volume  \n",
       "0  41055.691406   6900.0  \n",
       "1  40894.378906  12300.0  \n",
       "2  41323.000000   5600.0  \n",
       "3  41170.121094   8400.0  \n",
       "4  40363.230469   8100.0  "
      ]
     },
     "execution_count": 67,
     "metadata": {},
     "output_type": "execute_result"
    }
   ],
   "source": [
    "stock_prices.head()"
   ]
  },
  {
   "cell_type": "code",
   "execution_count": 8,
   "metadata": {},
   "outputs": [
    {
     "data": {
      "text/plain": [
       "(248, 7)"
      ]
     },
     "execution_count": 8,
     "metadata": {},
     "output_type": "execute_result"
    }
   ],
   "source": [
    "np.shape(stock_prices)"
   ]
  },
  {
   "cell_type": "markdown",
   "metadata": {},
   "source": [
    "## MANIPULATING NEWS HEADLINE DATA"
   ]
  },
  {
   "cell_type": "code",
   "execution_count": 9,
   "metadata": {},
   "outputs": [
    {
     "data": {
      "text/html": [
       "<div>\n",
       "<style scoped>\n",
       "    .dataframe tbody tr th:only-of-type {\n",
       "        vertical-align: middle;\n",
       "    }\n",
       "\n",
       "    .dataframe tbody tr th {\n",
       "        vertical-align: top;\n",
       "    }\n",
       "\n",
       "    .dataframe thead th {\n",
       "        text-align: right;\n",
       "    }\n",
       "</style>\n",
       "<table border=\"1\" class=\"dataframe\">\n",
       "  <thead>\n",
       "    <tr style=\"text-align: right;\">\n",
       "      <th></th>\n",
       "      <th>publish_date</th>\n",
       "      <th>headline_category</th>\n",
       "      <th>headline_text</th>\n",
       "    </tr>\n",
       "  </thead>\n",
       "  <tbody>\n",
       "    <tr>\n",
       "      <th>0</th>\n",
       "      <td>20010101</td>\n",
       "      <td>sports.wwe</td>\n",
       "      <td>win over cena satisfying but defeating underta...</td>\n",
       "    </tr>\n",
       "    <tr>\n",
       "      <th>1</th>\n",
       "      <td>20010102</td>\n",
       "      <td>unknown</td>\n",
       "      <td>Status quo will not be disturbed at Ayodhya; s...</td>\n",
       "    </tr>\n",
       "    <tr>\n",
       "      <th>2</th>\n",
       "      <td>20010102</td>\n",
       "      <td>unknown</td>\n",
       "      <td>Fissures in Hurriyat over Pak visit</td>\n",
       "    </tr>\n",
       "    <tr>\n",
       "      <th>3</th>\n",
       "      <td>20010102</td>\n",
       "      <td>unknown</td>\n",
       "      <td>America's unwanted heading for India?</td>\n",
       "    </tr>\n",
       "    <tr>\n",
       "      <th>4</th>\n",
       "      <td>20010102</td>\n",
       "      <td>unknown</td>\n",
       "      <td>For bigwigs; it is destination Goa</td>\n",
       "    </tr>\n",
       "  </tbody>\n",
       "</table>\n",
       "</div>"
      ],
      "text/plain": [
       "   publish_date headline_category  \\\n",
       "0      20010101        sports.wwe   \n",
       "1      20010102           unknown   \n",
       "2      20010102           unknown   \n",
       "3      20010102           unknown   \n",
       "4      20010102           unknown   \n",
       "\n",
       "                                       headline_text  \n",
       "0  win over cena satisfying but defeating underta...  \n",
       "1  Status quo will not be disturbed at Ayodhya; s...  \n",
       "2                Fissures in Hurriyat over Pak visit  \n",
       "3              America's unwanted heading for India?  \n",
       "4                 For bigwigs; it is destination Goa  "
      ]
     },
     "execution_count": 9,
     "metadata": {},
     "output_type": "execute_result"
    }
   ],
   "source": [
    "news_headline.head()"
   ]
  },
  {
   "cell_type": "code",
   "execution_count": 10,
   "metadata": {},
   "outputs": [],
   "source": [
    "headline = news_headline[news_headline['headline_category']!='unknown']"
   ]
  },
  {
   "cell_type": "code",
   "execution_count": 11,
   "metadata": {},
   "outputs": [
    {
     "data": {
      "text/html": [
       "<div>\n",
       "<style scoped>\n",
       "    .dataframe tbody tr th:only-of-type {\n",
       "        vertical-align: middle;\n",
       "    }\n",
       "\n",
       "    .dataframe tbody tr th {\n",
       "        vertical-align: top;\n",
       "    }\n",
       "\n",
       "    .dataframe thead th {\n",
       "        text-align: right;\n",
       "    }\n",
       "</style>\n",
       "<table border=\"1\" class=\"dataframe\">\n",
       "  <thead>\n",
       "    <tr style=\"text-align: right;\">\n",
       "      <th></th>\n",
       "      <th>publish_date</th>\n",
       "      <th>headline_category</th>\n",
       "      <th>headline_text</th>\n",
       "    </tr>\n",
       "  </thead>\n",
       "  <tbody>\n",
       "    <tr>\n",
       "      <th>0</th>\n",
       "      <td>20010101</td>\n",
       "      <td>sports.wwe</td>\n",
       "      <td>win over cena satisfying but defeating underta...</td>\n",
       "    </tr>\n",
       "    <tr>\n",
       "      <th>86</th>\n",
       "      <td>20010102</td>\n",
       "      <td>entertainment.hindi.bollywood</td>\n",
       "      <td>Raju Chacha</td>\n",
       "    </tr>\n",
       "    <tr>\n",
       "      <th>127</th>\n",
       "      <td>20010103</td>\n",
       "      <td>entertainment.hindi.bollywood</td>\n",
       "      <td>'Devdas': Jinxed?</td>\n",
       "    </tr>\n",
       "    <tr>\n",
       "      <th>273</th>\n",
       "      <td>20010104</td>\n",
       "      <td>india</td>\n",
       "      <td>Dudhwa tiger died of starvation; not poisoning</td>\n",
       "    </tr>\n",
       "    <tr>\n",
       "      <th>274</th>\n",
       "      <td>20010104</td>\n",
       "      <td>city.bengaluru</td>\n",
       "      <td>Three in race for chief secy's post</td>\n",
       "    </tr>\n",
       "  </tbody>\n",
       "</table>\n",
       "</div>"
      ],
      "text/plain": [
       "     publish_date              headline_category  \\\n",
       "0        20010101                     sports.wwe   \n",
       "86       20010102  entertainment.hindi.bollywood   \n",
       "127      20010103  entertainment.hindi.bollywood   \n",
       "273      20010104                          india   \n",
       "274      20010104                 city.bengaluru   \n",
       "\n",
       "                                         headline_text  \n",
       "0    win over cena satisfying but defeating underta...  \n",
       "86                                         Raju Chacha  \n",
       "127                                  'Devdas': Jinxed?  \n",
       "273     Dudhwa tiger died of starvation; not poisoning  \n",
       "274                Three in race for chief secy's post  "
      ]
     },
     "execution_count": 11,
     "metadata": {},
     "output_type": "execute_result"
    }
   ],
   "source": [
    "headline.head()"
   ]
  },
  {
   "cell_type": "code",
   "execution_count": 12,
   "metadata": {},
   "outputs": [
    {
     "data": {
      "text/plain": [
       "(3089440, 3)"
      ]
     },
     "execution_count": 12,
     "metadata": {},
     "output_type": "execute_result"
    }
   ],
   "source": [
    "np.shape(headline)"
   ]
  },
  {
   "cell_type": "code",
   "execution_count": 13,
   "metadata": {},
   "outputs": [
    {
     "name": "stdout",
     "output_type": "stream",
     "text": [
      "<class 'pandas.core.frame.DataFrame'>\n",
      "Int64Index: 3089440 entries, 0 to 3297171\n",
      "Data columns (total 3 columns):\n",
      " #   Column             Dtype \n",
      "---  ------             ----- \n",
      " 0   publish_date       int64 \n",
      " 1   headline_category  object\n",
      " 2   headline_text      object\n",
      "dtypes: int64(1), object(2)\n",
      "memory usage: 94.3+ MB\n"
     ]
    }
   ],
   "source": [
    "headline.info()"
   ]
  },
  {
   "cell_type": "code",
   "execution_count": 14,
   "metadata": {},
   "outputs": [
    {
     "name": "stderr",
     "output_type": "stream",
     "text": [
      "c:\\users\\computer\\appdata\\local\\programs\\python\\python36\\lib\\site-packages\\ipykernel_launcher.py:1: SettingWithCopyWarning: \n",
      "A value is trying to be set on a copy of a slice from a DataFrame.\n",
      "Try using .loc[row_indexer,col_indexer] = value instead\n",
      "\n",
      "See the caveats in the documentation: https://pandas.pydata.org/pandas-docs/stable/user_guide/indexing.html#returning-a-view-versus-a-copy\n",
      "  \"\"\"Entry point for launching an IPython kernel.\n"
     ]
    }
   ],
   "source": [
    "headline['publish_date'] = pd.to_datetime(headline['publish_date'], format='%Y%m%d')"
   ]
  },
  {
   "cell_type": "code",
   "execution_count": 15,
   "metadata": {},
   "outputs": [],
   "source": [
    "headline = headline[['publish_date', 'headline_text']]"
   ]
  },
  {
   "cell_type": "code",
   "execution_count": 16,
   "metadata": {},
   "outputs": [],
   "source": [
    "headline.drop_duplicates(subset='headline_text',keep='first',inplace=True)"
   ]
  },
  {
   "cell_type": "code",
   "execution_count": 17,
   "metadata": {},
   "outputs": [],
   "source": [
    "headline['headline_text'] = headline.groupby('publish_date').transform(lambda x: ' '.join(x))"
   ]
  },
  {
   "cell_type": "code",
   "execution_count": 18,
   "metadata": {},
   "outputs": [
    {
     "data": {
      "text/html": [
       "<div>\n",
       "<style scoped>\n",
       "    .dataframe tbody tr th:only-of-type {\n",
       "        vertical-align: middle;\n",
       "    }\n",
       "\n",
       "    .dataframe tbody tr th {\n",
       "        vertical-align: top;\n",
       "    }\n",
       "\n",
       "    .dataframe thead th {\n",
       "        text-align: right;\n",
       "    }\n",
       "</style>\n",
       "<table border=\"1\" class=\"dataframe\">\n",
       "  <thead>\n",
       "    <tr style=\"text-align: right;\">\n",
       "      <th></th>\n",
       "      <th>publish_date</th>\n",
       "      <th>headline_text</th>\n",
       "    </tr>\n",
       "  </thead>\n",
       "  <tbody>\n",
       "    <tr>\n",
       "      <th>0</th>\n",
       "      <td>2001-01-01</td>\n",
       "      <td>win over cena satisfying but defeating underta...</td>\n",
       "    </tr>\n",
       "    <tr>\n",
       "      <th>86</th>\n",
       "      <td>2001-01-02</td>\n",
       "      <td>Raju Chacha</td>\n",
       "    </tr>\n",
       "    <tr>\n",
       "      <th>127</th>\n",
       "      <td>2001-01-03</td>\n",
       "      <td>'Devdas': Jinxed?</td>\n",
       "    </tr>\n",
       "    <tr>\n",
       "      <th>273</th>\n",
       "      <td>2001-01-04</td>\n",
       "      <td>Dudhwa tiger died of starvation; not poisoning...</td>\n",
       "    </tr>\n",
       "    <tr>\n",
       "      <th>274</th>\n",
       "      <td>2001-01-04</td>\n",
       "      <td>Dudhwa tiger died of starvation; not poisoning...</td>\n",
       "    </tr>\n",
       "    <tr>\n",
       "      <th>...</th>\n",
       "      <td>...</td>\n",
       "      <td>...</td>\n",
       "    </tr>\n",
       "    <tr>\n",
       "      <th>3297167</th>\n",
       "      <td>2020-06-30</td>\n",
       "      <td>Detective Byomkesh Bakshy! Edge of Tomorrow Fi...</td>\n",
       "    </tr>\n",
       "    <tr>\n",
       "      <th>3297168</th>\n",
       "      <td>2020-06-30</td>\n",
       "      <td>Detective Byomkesh Bakshy! Edge of Tomorrow Fi...</td>\n",
       "    </tr>\n",
       "    <tr>\n",
       "      <th>3297169</th>\n",
       "      <td>2020-06-30</td>\n",
       "      <td>Detective Byomkesh Bakshy! Edge of Tomorrow Fi...</td>\n",
       "    </tr>\n",
       "    <tr>\n",
       "      <th>3297170</th>\n",
       "      <td>2020-06-30</td>\n",
       "      <td>Detective Byomkesh Bakshy! Edge of Tomorrow Fi...</td>\n",
       "    </tr>\n",
       "    <tr>\n",
       "      <th>3297171</th>\n",
       "      <td>2020-06-30</td>\n",
       "      <td>Detective Byomkesh Bakshy! Edge of Tomorrow Fi...</td>\n",
       "    </tr>\n",
       "  </tbody>\n",
       "</table>\n",
       "<p>2929350 rows × 2 columns</p>\n",
       "</div>"
      ],
      "text/plain": [
       "        publish_date                                      headline_text\n",
       "0         2001-01-01  win over cena satisfying but defeating underta...\n",
       "86        2001-01-02                                        Raju Chacha\n",
       "127       2001-01-03                                  'Devdas': Jinxed?\n",
       "273       2001-01-04  Dudhwa tiger died of starvation; not poisoning...\n",
       "274       2001-01-04  Dudhwa tiger died of starvation; not poisoning...\n",
       "...              ...                                                ...\n",
       "3297167   2020-06-30  Detective Byomkesh Bakshy! Edge of Tomorrow Fi...\n",
       "3297168   2020-06-30  Detective Byomkesh Bakshy! Edge of Tomorrow Fi...\n",
       "3297169   2020-06-30  Detective Byomkesh Bakshy! Edge of Tomorrow Fi...\n",
       "3297170   2020-06-30  Detective Byomkesh Bakshy! Edge of Tomorrow Fi...\n",
       "3297171   2020-06-30  Detective Byomkesh Bakshy! Edge of Tomorrow Fi...\n",
       "\n",
       "[2929350 rows x 2 columns]"
      ]
     },
     "execution_count": 18,
     "metadata": {},
     "output_type": "execute_result"
    }
   ],
   "source": [
    "headline"
   ]
  },
  {
   "cell_type": "code",
   "execution_count": 19,
   "metadata": {},
   "outputs": [],
   "source": [
    "headline.drop_duplicates(subset='headline_text',keep='first',inplace=True)"
   ]
  },
  {
   "cell_type": "code",
   "execution_count": 20,
   "metadata": {},
   "outputs": [
    {
     "data": {
      "text/html": [
       "<div>\n",
       "<style scoped>\n",
       "    .dataframe tbody tr th:only-of-type {\n",
       "        vertical-align: middle;\n",
       "    }\n",
       "\n",
       "    .dataframe tbody tr th {\n",
       "        vertical-align: top;\n",
       "    }\n",
       "\n",
       "    .dataframe thead th {\n",
       "        text-align: right;\n",
       "    }\n",
       "</style>\n",
       "<table border=\"1\" class=\"dataframe\">\n",
       "  <thead>\n",
       "    <tr style=\"text-align: right;\">\n",
       "      <th></th>\n",
       "      <th>publish_date</th>\n",
       "      <th>headline_text</th>\n",
       "    </tr>\n",
       "  </thead>\n",
       "  <tbody>\n",
       "    <tr>\n",
       "      <th>0</th>\n",
       "      <td>2001-01-01</td>\n",
       "      <td>win over cena satisfying but defeating underta...</td>\n",
       "    </tr>\n",
       "    <tr>\n",
       "      <th>86</th>\n",
       "      <td>2001-01-02</td>\n",
       "      <td>Raju Chacha</td>\n",
       "    </tr>\n",
       "    <tr>\n",
       "      <th>127</th>\n",
       "      <td>2001-01-03</td>\n",
       "      <td>'Devdas': Jinxed?</td>\n",
       "    </tr>\n",
       "    <tr>\n",
       "      <th>273</th>\n",
       "      <td>2001-01-04</td>\n",
       "      <td>Dudhwa tiger died of starvation; not poisoning...</td>\n",
       "    </tr>\n",
       "    <tr>\n",
       "      <th>405</th>\n",
       "      <td>2001-01-05</td>\n",
       "      <td>Nepal won't allow anti-India activities: Envoy...</td>\n",
       "    </tr>\n",
       "    <tr>\n",
       "      <th>...</th>\n",
       "      <td>...</td>\n",
       "      <td>...</td>\n",
       "    </tr>\n",
       "    <tr>\n",
       "      <th>3294593</th>\n",
       "      <td>2020-06-26</td>\n",
       "      <td>Containment zone residents slam high prices ch...</td>\n",
       "    </tr>\n",
       "    <tr>\n",
       "      <th>3295093</th>\n",
       "      <td>2020-06-27</td>\n",
       "      <td>like me i wont let you have a toxic relationsh...</td>\n",
       "    </tr>\n",
       "    <tr>\n",
       "      <th>3295620</th>\n",
       "      <td>2020-06-28</td>\n",
       "      <td>Atanu Ghosh plans to rewrite old scripts to ma...</td>\n",
       "    </tr>\n",
       "    <tr>\n",
       "      <th>3296120</th>\n",
       "      <td>2020-06-29</td>\n",
       "      <td>6 hot and stylish bikini looks of Katrina Kaif...</td>\n",
       "    </tr>\n",
       "    <tr>\n",
       "      <th>3296636</th>\n",
       "      <td>2020-06-30</td>\n",
       "      <td>Detective Byomkesh Bakshy! Edge of Tomorrow Fi...</td>\n",
       "    </tr>\n",
       "  </tbody>\n",
       "</table>\n",
       "<p>6992 rows × 2 columns</p>\n",
       "</div>"
      ],
      "text/plain": [
       "        publish_date                                      headline_text\n",
       "0         2001-01-01  win over cena satisfying but defeating underta...\n",
       "86        2001-01-02                                        Raju Chacha\n",
       "127       2001-01-03                                  'Devdas': Jinxed?\n",
       "273       2001-01-04  Dudhwa tiger died of starvation; not poisoning...\n",
       "405       2001-01-05  Nepal won't allow anti-India activities: Envoy...\n",
       "...              ...                                                ...\n",
       "3294593   2020-06-26  Containment zone residents slam high prices ch...\n",
       "3295093   2020-06-27  like me i wont let you have a toxic relationsh...\n",
       "3295620   2020-06-28  Atanu Ghosh plans to rewrite old scripts to ma...\n",
       "3296120   2020-06-29  6 hot and stylish bikini looks of Katrina Kaif...\n",
       "3296636   2020-06-30  Detective Byomkesh Bakshy! Edge of Tomorrow Fi...\n",
       "\n",
       "[6992 rows x 2 columns]"
      ]
     },
     "execution_count": 20,
     "metadata": {},
     "output_type": "execute_result"
    }
   ],
   "source": [
    "headline"
   ]
  },
  {
   "cell_type": "markdown",
   "metadata": {},
   "source": [
    "## SENITIMENTAL ANALYSIS\n",
    "\n",
    "**DECLARING LIBRARIES**"
   ]
  },
  {
   "cell_type": "code",
   "execution_count": 21,
   "metadata": {},
   "outputs": [
    {
     "name": "stdout",
     "output_type": "stream",
     "text": [
      "[nltk_data] Downloading package vader_lexicon to\n",
      "[nltk_data]     C:\\Users\\Computer\\AppData\\Roaming\\nltk_data...\n",
      "[nltk_data]   Package vader_lexicon is already up-to-date!\n"
     ]
    },
    {
     "name": "stderr",
     "output_type": "stream",
     "text": [
      "c:\\users\\computer\\appdata\\local\\programs\\python\\python36\\lib\\site-packages\\nltk\\twitter\\__init__.py:20: UserWarning: The twython library has not been installed. Some functionality from the twitter package will not be available.\n",
      "  warnings.warn(\"The twython library has not been installed. \"\n"
     ]
    }
   ],
   "source": [
    "import nltk\n",
    "nltk.download('vader_lexicon')\n",
    "from nltk.sentiment.vader import SentimentIntensityAnalyzer\n",
    "from textblob import TextBlob"
   ]
  },
  {
   "cell_type": "markdown",
   "metadata": {},
   "source": [
    "**CREATING MODEL**"
   ]
  },
  {
   "cell_type": "code",
   "execution_count": 22,
   "metadata": {},
   "outputs": [],
   "source": [
    "model = SentimentIntensityAnalyzer()"
   ]
  },
  {
   "cell_type": "markdown",
   "metadata": {},
   "source": [
    "**Polarity:**\n",
    "\n",
    "**Measure of how positive or negative or neutral a statement is.**"
   ]
  },
  {
   "cell_type": "code",
   "execution_count": 23,
   "metadata": {},
   "outputs": [],
   "source": [
    "headline['polarity_score'] = [TextBlob(x).sentiment.polarity for x in headline['headline_text']]"
   ]
  },
  {
   "cell_type": "markdown",
   "metadata": {},
   "source": [
    "**Subjectivity:**\n",
    "\n",
    "**It is a measure of is the statment factual(Objectivity) or it just refer to personal opinion, emotions and judgement(Subjectivity).**"
   ]
  },
  {
   "cell_type": "code",
   "execution_count": 24,
   "metadata": {},
   "outputs": [],
   "source": [
    "headline['subjectivity_score'] = [TextBlob(x).sentiment.subjectivity for x in headline['headline_text']]"
   ]
  },
  {
   "cell_type": "markdown",
   "metadata": {},
   "source": [
    "**CHECKING THE SCORES FOR EACH HEADLINE**"
   ]
  },
  {
   "cell_type": "code",
   "execution_count": 26,
   "metadata": {},
   "outputs": [],
   "source": [
    "x = [model.polarity_scores(x)['pos'] for x in headline['headline_text']]"
   ]
  },
  {
   "cell_type": "code",
   "execution_count": 27,
   "metadata": {},
   "outputs": [],
   "source": [
    "headline['positive'] = x"
   ]
  },
  {
   "cell_type": "code",
   "execution_count": 28,
   "metadata": {},
   "outputs": [
    {
     "data": {
      "text/html": [
       "<div>\n",
       "<style scoped>\n",
       "    .dataframe tbody tr th:only-of-type {\n",
       "        vertical-align: middle;\n",
       "    }\n",
       "\n",
       "    .dataframe tbody tr th {\n",
       "        vertical-align: top;\n",
       "    }\n",
       "\n",
       "    .dataframe thead th {\n",
       "        text-align: right;\n",
       "    }\n",
       "</style>\n",
       "<table border=\"1\" class=\"dataframe\">\n",
       "  <thead>\n",
       "    <tr style=\"text-align: right;\">\n",
       "      <th></th>\n",
       "      <th>publish_date</th>\n",
       "      <th>headline_text</th>\n",
       "      <th>polarity_score</th>\n",
       "      <th>subjectivity_score</th>\n",
       "      <th>positive</th>\n",
       "    </tr>\n",
       "  </thead>\n",
       "  <tbody>\n",
       "    <tr>\n",
       "      <th>0</th>\n",
       "      <td>2001-01-01</td>\n",
       "      <td>win over cena satisfying but defeating underta...</td>\n",
       "      <td>0.433333</td>\n",
       "      <td>0.633333</td>\n",
       "      <td>0.297</td>\n",
       "    </tr>\n",
       "    <tr>\n",
       "      <th>86</th>\n",
       "      <td>2001-01-02</td>\n",
       "      <td>Raju Chacha</td>\n",
       "      <td>0.000000</td>\n",
       "      <td>0.000000</td>\n",
       "      <td>0.000</td>\n",
       "    </tr>\n",
       "    <tr>\n",
       "      <th>127</th>\n",
       "      <td>2001-01-03</td>\n",
       "      <td>'Devdas': Jinxed?</td>\n",
       "      <td>0.000000</td>\n",
       "      <td>0.000000</td>\n",
       "      <td>0.000</td>\n",
       "    </tr>\n",
       "    <tr>\n",
       "      <th>273</th>\n",
       "      <td>2001-01-04</td>\n",
       "      <td>Dudhwa tiger died of starvation; not poisoning...</td>\n",
       "      <td>0.000000</td>\n",
       "      <td>0.000000</td>\n",
       "      <td>0.067</td>\n",
       "    </tr>\n",
       "    <tr>\n",
       "      <th>405</th>\n",
       "      <td>2001-01-05</td>\n",
       "      <td>Nepal won't allow anti-India activities: Envoy...</td>\n",
       "      <td>1.000000</td>\n",
       "      <td>0.300000</td>\n",
       "      <td>0.265</td>\n",
       "    </tr>\n",
       "    <tr>\n",
       "      <th>...</th>\n",
       "      <td>...</td>\n",
       "      <td>...</td>\n",
       "      <td>...</td>\n",
       "      <td>...</td>\n",
       "      <td>...</td>\n",
       "    </tr>\n",
       "    <tr>\n",
       "      <th>3294593</th>\n",
       "      <td>2020-06-26</td>\n",
       "      <td>Containment zone residents slam high prices ch...</td>\n",
       "      <td>0.069856</td>\n",
       "      <td>0.382764</td>\n",
       "      <td>0.089</td>\n",
       "    </tr>\n",
       "    <tr>\n",
       "      <th>3295093</th>\n",
       "      <td>2020-06-27</td>\n",
       "      <td>like me i wont let you have a toxic relationsh...</td>\n",
       "      <td>0.075936</td>\n",
       "      <td>0.395716</td>\n",
       "      <td>0.090</td>\n",
       "    </tr>\n",
       "    <tr>\n",
       "      <th>3295620</th>\n",
       "      <td>2020-06-28</td>\n",
       "      <td>Atanu Ghosh plans to rewrite old scripts to ma...</td>\n",
       "      <td>0.050513</td>\n",
       "      <td>0.403735</td>\n",
       "      <td>0.072</td>\n",
       "    </tr>\n",
       "    <tr>\n",
       "      <th>3296120</th>\n",
       "      <td>2020-06-29</td>\n",
       "      <td>6 hot and stylish bikini looks of Katrina Kaif...</td>\n",
       "      <td>0.061534</td>\n",
       "      <td>0.399726</td>\n",
       "      <td>0.085</td>\n",
       "    </tr>\n",
       "    <tr>\n",
       "      <th>3296636</th>\n",
       "      <td>2020-06-30</td>\n",
       "      <td>Detective Byomkesh Bakshy! Edge of Tomorrow Fi...</td>\n",
       "      <td>0.072246</td>\n",
       "      <td>0.381265</td>\n",
       "      <td>0.070</td>\n",
       "    </tr>\n",
       "  </tbody>\n",
       "</table>\n",
       "<p>6992 rows × 5 columns</p>\n",
       "</div>"
      ],
      "text/plain": [
       "        publish_date                                      headline_text  \\\n",
       "0         2001-01-01  win over cena satisfying but defeating underta...   \n",
       "86        2001-01-02                                        Raju Chacha   \n",
       "127       2001-01-03                                  'Devdas': Jinxed?   \n",
       "273       2001-01-04  Dudhwa tiger died of starvation; not poisoning...   \n",
       "405       2001-01-05  Nepal won't allow anti-India activities: Envoy...   \n",
       "...              ...                                                ...   \n",
       "3294593   2020-06-26  Containment zone residents slam high prices ch...   \n",
       "3295093   2020-06-27  like me i wont let you have a toxic relationsh...   \n",
       "3295620   2020-06-28  Atanu Ghosh plans to rewrite old scripts to ma...   \n",
       "3296120   2020-06-29  6 hot and stylish bikini looks of Katrina Kaif...   \n",
       "3296636   2020-06-30  Detective Byomkesh Bakshy! Edge of Tomorrow Fi...   \n",
       "\n",
       "         polarity_score  subjectivity_score  positive  \n",
       "0              0.433333            0.633333     0.297  \n",
       "86             0.000000            0.000000     0.000  \n",
       "127            0.000000            0.000000     0.000  \n",
       "273            0.000000            0.000000     0.067  \n",
       "405            1.000000            0.300000     0.265  \n",
       "...                 ...                 ...       ...  \n",
       "3294593        0.069856            0.382764     0.089  \n",
       "3295093        0.075936            0.395716     0.090  \n",
       "3295620        0.050513            0.403735     0.072  \n",
       "3296120        0.061534            0.399726     0.085  \n",
       "3296636        0.072246            0.381265     0.070  \n",
       "\n",
       "[6992 rows x 5 columns]"
      ]
     },
     "execution_count": 28,
     "metadata": {},
     "output_type": "execute_result"
    }
   ],
   "source": [
    "headline"
   ]
  },
  {
   "cell_type": "code",
   "execution_count": 29,
   "metadata": {},
   "outputs": [],
   "source": [
    "y = [model.polarity_scores(x)['neg'] for x in headline['headline_text']]"
   ]
  },
  {
   "cell_type": "code",
   "execution_count": 30,
   "metadata": {},
   "outputs": [],
   "source": [
    "headline['negative'] = y"
   ]
  },
  {
   "cell_type": "code",
   "execution_count": 31,
   "metadata": {},
   "outputs": [
    {
     "data": {
      "text/html": [
       "<div>\n",
       "<style scoped>\n",
       "    .dataframe tbody tr th:only-of-type {\n",
       "        vertical-align: middle;\n",
       "    }\n",
       "\n",
       "    .dataframe tbody tr th {\n",
       "        vertical-align: top;\n",
       "    }\n",
       "\n",
       "    .dataframe thead th {\n",
       "        text-align: right;\n",
       "    }\n",
       "</style>\n",
       "<table border=\"1\" class=\"dataframe\">\n",
       "  <thead>\n",
       "    <tr style=\"text-align: right;\">\n",
       "      <th></th>\n",
       "      <th>publish_date</th>\n",
       "      <th>headline_text</th>\n",
       "      <th>polarity_score</th>\n",
       "      <th>subjectivity_score</th>\n",
       "      <th>positive</th>\n",
       "      <th>negative</th>\n",
       "    </tr>\n",
       "  </thead>\n",
       "  <tbody>\n",
       "    <tr>\n",
       "      <th>0</th>\n",
       "      <td>2001-01-01</td>\n",
       "      <td>win over cena satisfying but defeating underta...</td>\n",
       "      <td>0.433333</td>\n",
       "      <td>0.633333</td>\n",
       "      <td>0.297</td>\n",
       "      <td>0.230</td>\n",
       "    </tr>\n",
       "    <tr>\n",
       "      <th>86</th>\n",
       "      <td>2001-01-02</td>\n",
       "      <td>Raju Chacha</td>\n",
       "      <td>0.000000</td>\n",
       "      <td>0.000000</td>\n",
       "      <td>0.000</td>\n",
       "      <td>0.000</td>\n",
       "    </tr>\n",
       "    <tr>\n",
       "      <th>127</th>\n",
       "      <td>2001-01-03</td>\n",
       "      <td>'Devdas': Jinxed?</td>\n",
       "      <td>0.000000</td>\n",
       "      <td>0.000000</td>\n",
       "      <td>0.000</td>\n",
       "      <td>0.000</td>\n",
       "    </tr>\n",
       "    <tr>\n",
       "      <th>273</th>\n",
       "      <td>2001-01-04</td>\n",
       "      <td>Dudhwa tiger died of starvation; not poisoning...</td>\n",
       "      <td>0.000000</td>\n",
       "      <td>0.000000</td>\n",
       "      <td>0.067</td>\n",
       "      <td>0.123</td>\n",
       "    </tr>\n",
       "    <tr>\n",
       "      <th>405</th>\n",
       "      <td>2001-01-05</td>\n",
       "      <td>Nepal won't allow anti-India activities: Envoy...</td>\n",
       "      <td>1.000000</td>\n",
       "      <td>0.300000</td>\n",
       "      <td>0.265</td>\n",
       "      <td>0.105</td>\n",
       "    </tr>\n",
       "    <tr>\n",
       "      <th>...</th>\n",
       "      <td>...</td>\n",
       "      <td>...</td>\n",
       "      <td>...</td>\n",
       "      <td>...</td>\n",
       "      <td>...</td>\n",
       "      <td>...</td>\n",
       "    </tr>\n",
       "    <tr>\n",
       "      <th>3294593</th>\n",
       "      <td>2020-06-26</td>\n",
       "      <td>Containment zone residents slam high prices ch...</td>\n",
       "      <td>0.069856</td>\n",
       "      <td>0.382764</td>\n",
       "      <td>0.089</td>\n",
       "      <td>0.162</td>\n",
       "    </tr>\n",
       "    <tr>\n",
       "      <th>3295093</th>\n",
       "      <td>2020-06-27</td>\n",
       "      <td>like me i wont let you have a toxic relationsh...</td>\n",
       "      <td>0.075936</td>\n",
       "      <td>0.395716</td>\n",
       "      <td>0.090</td>\n",
       "      <td>0.161</td>\n",
       "    </tr>\n",
       "    <tr>\n",
       "      <th>3295620</th>\n",
       "      <td>2020-06-28</td>\n",
       "      <td>Atanu Ghosh plans to rewrite old scripts to ma...</td>\n",
       "      <td>0.050513</td>\n",
       "      <td>0.403735</td>\n",
       "      <td>0.072</td>\n",
       "      <td>0.146</td>\n",
       "    </tr>\n",
       "    <tr>\n",
       "      <th>3296120</th>\n",
       "      <td>2020-06-29</td>\n",
       "      <td>6 hot and stylish bikini looks of Katrina Kaif...</td>\n",
       "      <td>0.061534</td>\n",
       "      <td>0.399726</td>\n",
       "      <td>0.085</td>\n",
       "      <td>0.143</td>\n",
       "    </tr>\n",
       "    <tr>\n",
       "      <th>3296636</th>\n",
       "      <td>2020-06-30</td>\n",
       "      <td>Detective Byomkesh Bakshy! Edge of Tomorrow Fi...</td>\n",
       "      <td>0.072246</td>\n",
       "      <td>0.381265</td>\n",
       "      <td>0.070</td>\n",
       "      <td>0.135</td>\n",
       "    </tr>\n",
       "  </tbody>\n",
       "</table>\n",
       "<p>6992 rows × 6 columns</p>\n",
       "</div>"
      ],
      "text/plain": [
       "        publish_date                                      headline_text  \\\n",
       "0         2001-01-01  win over cena satisfying but defeating underta...   \n",
       "86        2001-01-02                                        Raju Chacha   \n",
       "127       2001-01-03                                  'Devdas': Jinxed?   \n",
       "273       2001-01-04  Dudhwa tiger died of starvation; not poisoning...   \n",
       "405       2001-01-05  Nepal won't allow anti-India activities: Envoy...   \n",
       "...              ...                                                ...   \n",
       "3294593   2020-06-26  Containment zone residents slam high prices ch...   \n",
       "3295093   2020-06-27  like me i wont let you have a toxic relationsh...   \n",
       "3295620   2020-06-28  Atanu Ghosh plans to rewrite old scripts to ma...   \n",
       "3296120   2020-06-29  6 hot and stylish bikini looks of Katrina Kaif...   \n",
       "3296636   2020-06-30  Detective Byomkesh Bakshy! Edge of Tomorrow Fi...   \n",
       "\n",
       "         polarity_score  subjectivity_score  positive  negative  \n",
       "0              0.433333            0.633333     0.297     0.230  \n",
       "86             0.000000            0.000000     0.000     0.000  \n",
       "127            0.000000            0.000000     0.000     0.000  \n",
       "273            0.000000            0.000000     0.067     0.123  \n",
       "405            1.000000            0.300000     0.265     0.105  \n",
       "...                 ...                 ...       ...       ...  \n",
       "3294593        0.069856            0.382764     0.089     0.162  \n",
       "3295093        0.075936            0.395716     0.090     0.161  \n",
       "3295620        0.050513            0.403735     0.072     0.146  \n",
       "3296120        0.061534            0.399726     0.085     0.143  \n",
       "3296636        0.072246            0.381265     0.070     0.135  \n",
       "\n",
       "[6992 rows x 6 columns]"
      ]
     },
     "execution_count": 31,
     "metadata": {},
     "output_type": "execute_result"
    }
   ],
   "source": [
    "headline"
   ]
  },
  {
   "cell_type": "code",
   "execution_count": 32,
   "metadata": {},
   "outputs": [],
   "source": [
    "z = [model.polarity_scores(x)['neu'] for x in headline['headline_text']]"
   ]
  },
  {
   "cell_type": "code",
   "execution_count": 33,
   "metadata": {},
   "outputs": [],
   "source": [
    "headline['neutral'] = z"
   ]
  },
  {
   "cell_type": "code",
   "execution_count": 34,
   "metadata": {},
   "outputs": [],
   "source": [
    "w = [model.polarity_scores(x)['compound'] for x in headline['headline_text']]"
   ]
  },
  {
   "cell_type": "code",
   "execution_count": 35,
   "metadata": {},
   "outputs": [],
   "source": [
    "headline['compound'] = w"
   ]
  },
  {
   "cell_type": "code",
   "execution_count": 36,
   "metadata": {},
   "outputs": [
    {
     "data": {
      "text/html": [
       "<div>\n",
       "<style scoped>\n",
       "    .dataframe tbody tr th:only-of-type {\n",
       "        vertical-align: middle;\n",
       "    }\n",
       "\n",
       "    .dataframe tbody tr th {\n",
       "        vertical-align: top;\n",
       "    }\n",
       "\n",
       "    .dataframe thead th {\n",
       "        text-align: right;\n",
       "    }\n",
       "</style>\n",
       "<table border=\"1\" class=\"dataframe\">\n",
       "  <thead>\n",
       "    <tr style=\"text-align: right;\">\n",
       "      <th></th>\n",
       "      <th>publish_date</th>\n",
       "      <th>headline_text</th>\n",
       "      <th>polarity_score</th>\n",
       "      <th>subjectivity_score</th>\n",
       "      <th>positive</th>\n",
       "      <th>negative</th>\n",
       "      <th>neutral</th>\n",
       "      <th>compound</th>\n",
       "    </tr>\n",
       "  </thead>\n",
       "  <tbody>\n",
       "    <tr>\n",
       "      <th>0</th>\n",
       "      <td>2001-01-01</td>\n",
       "      <td>win over cena satisfying but defeating underta...</td>\n",
       "      <td>0.433333</td>\n",
       "      <td>0.633333</td>\n",
       "      <td>0.297</td>\n",
       "      <td>0.230</td>\n",
       "      <td>0.473</td>\n",
       "      <td>-0.0000</td>\n",
       "    </tr>\n",
       "    <tr>\n",
       "      <th>86</th>\n",
       "      <td>2001-01-02</td>\n",
       "      <td>Raju Chacha</td>\n",
       "      <td>0.000000</td>\n",
       "      <td>0.000000</td>\n",
       "      <td>0.000</td>\n",
       "      <td>0.000</td>\n",
       "      <td>1.000</td>\n",
       "      <td>0.0000</td>\n",
       "    </tr>\n",
       "    <tr>\n",
       "      <th>127</th>\n",
       "      <td>2001-01-03</td>\n",
       "      <td>'Devdas': Jinxed?</td>\n",
       "      <td>0.000000</td>\n",
       "      <td>0.000000</td>\n",
       "      <td>0.000</td>\n",
       "      <td>0.000</td>\n",
       "      <td>1.000</td>\n",
       "      <td>0.0000</td>\n",
       "    </tr>\n",
       "    <tr>\n",
       "      <th>273</th>\n",
       "      <td>2001-01-04</td>\n",
       "      <td>Dudhwa tiger died of starvation; not poisoning...</td>\n",
       "      <td>0.000000</td>\n",
       "      <td>0.000000</td>\n",
       "      <td>0.067</td>\n",
       "      <td>0.123</td>\n",
       "      <td>0.810</td>\n",
       "      <td>-0.3670</td>\n",
       "    </tr>\n",
       "    <tr>\n",
       "      <th>405</th>\n",
       "      <td>2001-01-05</td>\n",
       "      <td>Nepal won't allow anti-India activities: Envoy...</td>\n",
       "      <td>1.000000</td>\n",
       "      <td>0.300000</td>\n",
       "      <td>0.265</td>\n",
       "      <td>0.105</td>\n",
       "      <td>0.630</td>\n",
       "      <td>0.5475</td>\n",
       "    </tr>\n",
       "    <tr>\n",
       "      <th>...</th>\n",
       "      <td>...</td>\n",
       "      <td>...</td>\n",
       "      <td>...</td>\n",
       "      <td>...</td>\n",
       "      <td>...</td>\n",
       "      <td>...</td>\n",
       "      <td>...</td>\n",
       "      <td>...</td>\n",
       "    </tr>\n",
       "    <tr>\n",
       "      <th>3294593</th>\n",
       "      <td>2020-06-26</td>\n",
       "      <td>Containment zone residents slam high prices ch...</td>\n",
       "      <td>0.069856</td>\n",
       "      <td>0.382764</td>\n",
       "      <td>0.089</td>\n",
       "      <td>0.162</td>\n",
       "      <td>0.749</td>\n",
       "      <td>-0.9999</td>\n",
       "    </tr>\n",
       "    <tr>\n",
       "      <th>3295093</th>\n",
       "      <td>2020-06-27</td>\n",
       "      <td>like me i wont let you have a toxic relationsh...</td>\n",
       "      <td>0.075936</td>\n",
       "      <td>0.395716</td>\n",
       "      <td>0.090</td>\n",
       "      <td>0.161</td>\n",
       "      <td>0.749</td>\n",
       "      <td>-0.9999</td>\n",
       "    </tr>\n",
       "    <tr>\n",
       "      <th>3295620</th>\n",
       "      <td>2020-06-28</td>\n",
       "      <td>Atanu Ghosh plans to rewrite old scripts to ma...</td>\n",
       "      <td>0.050513</td>\n",
       "      <td>0.403735</td>\n",
       "      <td>0.072</td>\n",
       "      <td>0.146</td>\n",
       "      <td>0.782</td>\n",
       "      <td>-0.9999</td>\n",
       "    </tr>\n",
       "    <tr>\n",
       "      <th>3296120</th>\n",
       "      <td>2020-06-29</td>\n",
       "      <td>6 hot and stylish bikini looks of Katrina Kaif...</td>\n",
       "      <td>0.061534</td>\n",
       "      <td>0.399726</td>\n",
       "      <td>0.085</td>\n",
       "      <td>0.143</td>\n",
       "      <td>0.772</td>\n",
       "      <td>-0.9999</td>\n",
       "    </tr>\n",
       "    <tr>\n",
       "      <th>3296636</th>\n",
       "      <td>2020-06-30</td>\n",
       "      <td>Detective Byomkesh Bakshy! Edge of Tomorrow Fi...</td>\n",
       "      <td>0.072246</td>\n",
       "      <td>0.381265</td>\n",
       "      <td>0.070</td>\n",
       "      <td>0.135</td>\n",
       "      <td>0.795</td>\n",
       "      <td>-0.9999</td>\n",
       "    </tr>\n",
       "  </tbody>\n",
       "</table>\n",
       "<p>6992 rows × 8 columns</p>\n",
       "</div>"
      ],
      "text/plain": [
       "        publish_date                                      headline_text  \\\n",
       "0         2001-01-01  win over cena satisfying but defeating underta...   \n",
       "86        2001-01-02                                        Raju Chacha   \n",
       "127       2001-01-03                                  'Devdas': Jinxed?   \n",
       "273       2001-01-04  Dudhwa tiger died of starvation; not poisoning...   \n",
       "405       2001-01-05  Nepal won't allow anti-India activities: Envoy...   \n",
       "...              ...                                                ...   \n",
       "3294593   2020-06-26  Containment zone residents slam high prices ch...   \n",
       "3295093   2020-06-27  like me i wont let you have a toxic relationsh...   \n",
       "3295620   2020-06-28  Atanu Ghosh plans to rewrite old scripts to ma...   \n",
       "3296120   2020-06-29  6 hot and stylish bikini looks of Katrina Kaif...   \n",
       "3296636   2020-06-30  Detective Byomkesh Bakshy! Edge of Tomorrow Fi...   \n",
       "\n",
       "         polarity_score  subjectivity_score  positive  negative  neutral  \\\n",
       "0              0.433333            0.633333     0.297     0.230    0.473   \n",
       "86             0.000000            0.000000     0.000     0.000    1.000   \n",
       "127            0.000000            0.000000     0.000     0.000    1.000   \n",
       "273            0.000000            0.000000     0.067     0.123    0.810   \n",
       "405            1.000000            0.300000     0.265     0.105    0.630   \n",
       "...                 ...                 ...       ...       ...      ...   \n",
       "3294593        0.069856            0.382764     0.089     0.162    0.749   \n",
       "3295093        0.075936            0.395716     0.090     0.161    0.749   \n",
       "3295620        0.050513            0.403735     0.072     0.146    0.782   \n",
       "3296120        0.061534            0.399726     0.085     0.143    0.772   \n",
       "3296636        0.072246            0.381265     0.070     0.135    0.795   \n",
       "\n",
       "         compound  \n",
       "0         -0.0000  \n",
       "86         0.0000  \n",
       "127        0.0000  \n",
       "273       -0.3670  \n",
       "405        0.5475  \n",
       "...           ...  \n",
       "3294593   -0.9999  \n",
       "3295093   -0.9999  \n",
       "3295620   -0.9999  \n",
       "3296120   -0.9999  \n",
       "3296636   -0.9999  \n",
       "\n",
       "[6992 rows x 8 columns]"
      ]
     },
     "execution_count": 36,
     "metadata": {},
     "output_type": "execute_result"
    }
   ],
   "source": [
    "headline"
   ]
  },
  {
   "cell_type": "markdown",
   "metadata": {},
   "source": [
    "## PLOTING STOCKS CLOSING POINTS"
   ]
  },
  {
   "cell_type": "code",
   "execution_count": 40,
   "metadata": {},
   "outputs": [
    {
     "data": {
      "image/png": "[encoded data removed]"
     },
     "metadata": {},
     "output_type": "display_data"
    }
   ],
   "source": [
    "fig = px.line(x=stock_prices['Date'],y=stock_prices['Close'],labels={'x':'Date','y':'Closing Points'},title='Closing Points Trend')\n",
    "fig.show('png')"
   ]
  },
  {
   "cell_type": "markdown",
   "metadata": {},
   "source": [
    "## PLOTTING MOVING WINDOW AVERAGE CLOSE POINTS"
   ]
  },
  {
   "cell_type": "code",
   "execution_count": 148,
   "metadata": {},
   "outputs": [
    {
     "data": {
      "image/png": "[encoded data removed]"
     },
     "metadata": {},
     "output_type": "display_data"
    }
   ],
   "source": [
    "fig = go.Figure()\n",
    "\n",
    "fig.add_trace(go.Scatter(x=stock_prices['Date'],y=stock_prices['Close'].rolling(window = 10).mean(),\n",
    "                          name='Average Moving Window(10)',mode='lines'))\n",
    "fig.add_trace(go.Scatter(x=stock_prices['Date'],y=stock_prices['Close'],\n",
    "                          name='Closing Points',mode='lines'))\n",
    "fig.update_layout(title='Moving Window Average(10)',xaxis_title='Date')\n",
    "fig.show('png')"
   ]
  },
  {
   "cell_type": "code",
   "execution_count": 149,
   "metadata": {},
   "outputs": [
    {
     "data": {
      "image/png": "[encoded data removed]"
     },
     "metadata": {},
     "output_type": "display_data"
    }
   ],
   "source": [
    "fig = go.Figure()\n",
    "\n",
    "fig.add_trace(go.Scatter(x=stock_prices['Date'],y=stock_prices['Close'].rolling(window = 20).mean(),\n",
    "                          name='Average Moving Window(20)',mode='lines'))\n",
    "fig.add_trace(go.Scatter(x=stock_prices['Date'],y=stock_prices['Close'],\n",
    "                          name='Closing Points',mode='lines'))\n",
    "fig.update_layout(title='Moving Window Average(20)',xaxis_title='Date')\n",
    "fig.show('png')"
   ]
  },
  {
   "cell_type": "code",
   "execution_count": 150,
   "metadata": {},
   "outputs": [
    {
     "data": {
      "image/png": "[encoded data removed]"
     },
     "metadata": {},
     "output_type": "display_data"
    }
   ],
   "source": [
    "fig = go.Figure()\n",
    "\n",
    "fig.add_trace(go.Scatter(x=stock_prices['Date'],y=stock_prices['Close'].rolling(window = 30).mean(),\n",
    "                          name='Average Moving Window(30)',mode='lines'))\n",
    "fig.add_trace(go.Scatter(x=stock_prices['Date'],y=stock_prices['Close'],\n",
    "                          name='Closing Points',mode='lines'))\n",
    "fig.update_layout(title='Moving Window Average(30)',xaxis_title='Date')\n",
    "fig.show('png')"
   ]
  },
  {
   "cell_type": "markdown",
   "metadata": {},
   "source": [
    "## MANIPULATING DATAFRAMES TO MERGE"
   ]
  },
  {
   "cell_type": "code",
   "execution_count": 53,
   "metadata": {},
   "outputs": [],
   "source": [
    "headline.rename(columns={'publish_date':'Date'},inplace=True)"
   ]
  },
  {
   "cell_type": "code",
   "execution_count": 74,
   "metadata": {},
   "outputs": [],
   "source": [
    "stock_prices['Date'] = pd.to_datetime(stock_prices['Date'], format='%Y%m%d',infer_datetime_format=True)"
   ]
  },
  {
   "cell_type": "code",
   "execution_count": 76,
   "metadata": {},
   "outputs": [],
   "source": [
    "df = pd.merge(stock_prices,headline,on='Date',how='inner')"
   ]
  },
  {
   "cell_type": "code",
   "execution_count": 77,
   "metadata": {},
   "outputs": [
    {
     "data": {
      "text/html": [
       "<div>\n",
       "<style scoped>\n",
       "    .dataframe tbody tr th:only-of-type {\n",
       "        vertical-align: middle;\n",
       "    }\n",
       "\n",
       "    .dataframe tbody tr th {\n",
       "        vertical-align: top;\n",
       "    }\n",
       "\n",
       "    .dataframe thead th {\n",
       "        text-align: right;\n",
       "    }\n",
       "</style>\n",
       "<table border=\"1\" class=\"dataframe\">\n",
       "  <thead>\n",
       "    <tr style=\"text-align: right;\">\n",
       "      <th></th>\n",
       "      <th>Date</th>\n",
       "      <th>Open</th>\n",
       "      <th>High</th>\n",
       "      <th>Low</th>\n",
       "      <th>Close</th>\n",
       "      <th>Adj Close</th>\n",
       "      <th>Volume</th>\n",
       "      <th>headline_text</th>\n",
       "      <th>polarity_score</th>\n",
       "      <th>subjectivity_score</th>\n",
       "      <th>positive</th>\n",
       "      <th>negative</th>\n",
       "      <th>neutral</th>\n",
       "      <th>compound</th>\n",
       "    </tr>\n",
       "  </thead>\n",
       "  <tbody>\n",
       "    <tr>\n",
       "      <th>0</th>\n",
       "      <td>2020-02-17</td>\n",
       "      <td>41324.039063</td>\n",
       "      <td>41420.339844</td>\n",
       "      <td>41030.578125</td>\n",
       "      <td>41055.691406</td>\n",
       "      <td>41055.691406</td>\n",
       "      <td>6900.0</td>\n",
       "      <td>VIDEO STORY: Dr.samir Parikh's tips for kids a...</td>\n",
       "      <td>0.056508</td>\n",
       "      <td>0.342316</td>\n",
       "      <td>0.080</td>\n",
       "      <td>0.169</td>\n",
       "      <td>0.752</td>\n",
       "      <td>-0.9999</td>\n",
       "    </tr>\n",
       "    <tr>\n",
       "      <th>1</th>\n",
       "      <td>2020-02-18</td>\n",
       "      <td>41042.460938</td>\n",
       "      <td>41042.460938</td>\n",
       "      <td>40610.949219</td>\n",
       "      <td>40894.378906</td>\n",
       "      <td>40894.378906</td>\n",
       "      <td>12300.0</td>\n",
       "      <td>'Mammukka didn't want Kadakkal Chandran to res...</td>\n",
       "      <td>0.078717</td>\n",
       "      <td>0.360463</td>\n",
       "      <td>0.073</td>\n",
       "      <td>0.141</td>\n",
       "      <td>0.786</td>\n",
       "      <td>-0.9999</td>\n",
       "    </tr>\n",
       "    <tr>\n",
       "      <th>2</th>\n",
       "      <td>2020-02-19</td>\n",
       "      <td>41121.511719</td>\n",
       "      <td>41357.160156</td>\n",
       "      <td>41048.929688</td>\n",
       "      <td>41323.000000</td>\n",
       "      <td>41323.000000</td>\n",
       "      <td>5600.0</td>\n",
       "      <td>AAP's Delhi win won't impact Goa voters: Digam...</td>\n",
       "      <td>0.041818</td>\n",
       "      <td>0.353285</td>\n",
       "      <td>0.082</td>\n",
       "      <td>0.185</td>\n",
       "      <td>0.732</td>\n",
       "      <td>-1.0000</td>\n",
       "    </tr>\n",
       "    <tr>\n",
       "      <th>3</th>\n",
       "      <td>2020-02-20</td>\n",
       "      <td>41334.960938</td>\n",
       "      <td>41399.929688</td>\n",
       "      <td>41134.308594</td>\n",
       "      <td>41170.121094</td>\n",
       "      <td>41170.121094</td>\n",
       "      <td>8400.0</td>\n",
       "      <td>'Some houses of Jamtara villagers bigger than ...</td>\n",
       "      <td>0.068827</td>\n",
       "      <td>0.383781</td>\n",
       "      <td>0.071</td>\n",
       "      <td>0.152</td>\n",
       "      <td>0.777</td>\n",
       "      <td>-0.9999</td>\n",
       "    </tr>\n",
       "    <tr>\n",
       "      <th>4</th>\n",
       "      <td>2020-02-24</td>\n",
       "      <td>41037.011719</td>\n",
       "      <td>41037.011719</td>\n",
       "      <td>40306.359375</td>\n",
       "      <td>40363.230469</td>\n",
       "      <td>40363.230469</td>\n",
       "      <td>8100.0</td>\n",
       "      <td>Horoscope Today; February 24; 2020: Check astr...</td>\n",
       "      <td>0.042636</td>\n",
       "      <td>0.400925</td>\n",
       "      <td>0.063</td>\n",
       "      <td>0.138</td>\n",
       "      <td>0.799</td>\n",
       "      <td>-0.9999</td>\n",
       "    </tr>\n",
       "    <tr>\n",
       "      <th>...</th>\n",
       "      <td>...</td>\n",
       "      <td>...</td>\n",
       "      <td>...</td>\n",
       "      <td>...</td>\n",
       "      <td>...</td>\n",
       "      <td>...</td>\n",
       "      <td>...</td>\n",
       "      <td>...</td>\n",
       "      <td>...</td>\n",
       "      <td>...</td>\n",
       "      <td>...</td>\n",
       "      <td>...</td>\n",
       "      <td>...</td>\n",
       "      <td>...</td>\n",
       "    </tr>\n",
       "    <tr>\n",
       "      <th>84</th>\n",
       "      <td>2020-06-24</td>\n",
       "      <td>35679.738281</td>\n",
       "      <td>35706.550781</td>\n",
       "      <td>34794.929688</td>\n",
       "      <td>34868.980469</td>\n",
       "      <td>34868.980469</td>\n",
       "      <td>26600.0</td>\n",
       "      <td>I never thought I had a voice until today: Vid...</td>\n",
       "      <td>0.088933</td>\n",
       "      <td>0.384712</td>\n",
       "      <td>0.077</td>\n",
       "      <td>0.133</td>\n",
       "      <td>0.790</td>\n",
       "      <td>-0.9999</td>\n",
       "    </tr>\n",
       "    <tr>\n",
       "      <th>85</th>\n",
       "      <td>2020-06-25</td>\n",
       "      <td>34525.390625</td>\n",
       "      <td>35081.609375</td>\n",
       "      <td>34499.781250</td>\n",
       "      <td>34842.101563</td>\n",
       "      <td>34842.101563</td>\n",
       "      <td>24600.0</td>\n",
       "      <td>Truck firms look for new export markets to sel...</td>\n",
       "      <td>0.026206</td>\n",
       "      <td>0.405185</td>\n",
       "      <td>0.063</td>\n",
       "      <td>0.137</td>\n",
       "      <td>0.800</td>\n",
       "      <td>-0.9999</td>\n",
       "    </tr>\n",
       "    <tr>\n",
       "      <th>86</th>\n",
       "      <td>2020-06-26</td>\n",
       "      <td>35144.781250</td>\n",
       "      <td>35254.878906</td>\n",
       "      <td>34910.339844</td>\n",
       "      <td>35171.269531</td>\n",
       "      <td>35171.269531</td>\n",
       "      <td>24800.0</td>\n",
       "      <td>Containment zone residents slam high prices ch...</td>\n",
       "      <td>0.069856</td>\n",
       "      <td>0.382764</td>\n",
       "      <td>0.089</td>\n",
       "      <td>0.162</td>\n",
       "      <td>0.749</td>\n",
       "      <td>-0.9999</td>\n",
       "    </tr>\n",
       "    <tr>\n",
       "      <th>87</th>\n",
       "      <td>2020-06-29</td>\n",
       "      <td>34926.949219</td>\n",
       "      <td>35032.359375</td>\n",
       "      <td>34662.058594</td>\n",
       "      <td>34961.519531</td>\n",
       "      <td>34961.519531</td>\n",
       "      <td>18300.0</td>\n",
       "      <td>6 hot and stylish bikini looks of Katrina Kaif...</td>\n",
       "      <td>0.061534</td>\n",
       "      <td>0.399726</td>\n",
       "      <td>0.085</td>\n",
       "      <td>0.143</td>\n",
       "      <td>0.772</td>\n",
       "      <td>-0.9999</td>\n",
       "    </tr>\n",
       "    <tr>\n",
       "      <th>88</th>\n",
       "      <td>2020-06-30</td>\n",
       "      <td>35168.300781</td>\n",
       "      <td>35233.910156</td>\n",
       "      <td>34812.800781</td>\n",
       "      <td>34915.800781</td>\n",
       "      <td>34915.800781</td>\n",
       "      <td>18500.0</td>\n",
       "      <td>Detective Byomkesh Bakshy! Edge of Tomorrow Fi...</td>\n",
       "      <td>0.072246</td>\n",
       "      <td>0.381265</td>\n",
       "      <td>0.070</td>\n",
       "      <td>0.135</td>\n",
       "      <td>0.795</td>\n",
       "      <td>-0.9999</td>\n",
       "    </tr>\n",
       "  </tbody>\n",
       "</table>\n",
       "<p>89 rows × 14 columns</p>\n",
       "</div>"
      ],
      "text/plain": [
       "         Date          Open          High           Low         Close  \\\n",
       "0  2020-02-17  41324.039063  41420.339844  41030.578125  41055.691406   \n",
       "1  2020-02-18  41042.460938  41042.460938  40610.949219  40894.378906   \n",
       "2  2020-02-19  41121.511719  41357.160156  41048.929688  41323.000000   \n",
       "3  2020-02-20  41334.960938  41399.929688  41134.308594  41170.121094   \n",
       "4  2020-02-24  41037.011719  41037.011719  40306.359375  40363.230469   \n",
       "..        ...           ...           ...           ...           ...   \n",
       "84 2020-06-24  35679.738281  35706.550781  34794.929688  34868.980469   \n",
       "85 2020-06-25  34525.390625  35081.609375  34499.781250  34842.101563   \n",
       "86 2020-06-26  35144.781250  35254.878906  34910.339844  35171.269531   \n",
       "87 2020-06-29  34926.949219  35032.359375  34662.058594  34961.519531   \n",
       "88 2020-06-30  35168.300781  35233.910156  34812.800781  34915.800781   \n",
       "\n",
       "       Adj Close   Volume                                      headline_text  \\\n",
       "0   41055.691406   6900.0  VIDEO STORY: Dr.samir Parikh's tips for kids a...   \n",
       "1   40894.378906  12300.0  'Mammukka didn't want Kadakkal Chandran to res...   \n",
       "2   41323.000000   5600.0  AAP's Delhi win won't impact Goa voters: Digam...   \n",
       "3   41170.121094   8400.0  'Some houses of Jamtara villagers bigger than ...   \n",
       "4   40363.230469   8100.0  Horoscope Today; February 24; 2020: Check astr...   \n",
       "..           ...      ...                                                ...   \n",
       "84  34868.980469  26600.0  I never thought I had a voice until today: Vid...   \n",
       "85  34842.101563  24600.0  Truck firms look for new export markets to sel...   \n",
       "86  35171.269531  24800.0  Containment zone residents slam high prices ch...   \n",
       "87  34961.519531  18300.0  6 hot and stylish bikini looks of Katrina Kaif...   \n",
       "88  34915.800781  18500.0  Detective Byomkesh Bakshy! Edge of Tomorrow Fi...   \n",
       "\n",
       "    polarity_score  subjectivity_score  positive  negative  neutral  compound  \n",
       "0         0.056508            0.342316     0.080     0.169    0.752   -0.9999  \n",
       "1         0.078717            0.360463     0.073     0.141    0.786   -0.9999  \n",
       "2         0.041818            0.353285     0.082     0.185    0.732   -1.0000  \n",
       "3         0.068827            0.383781     0.071     0.152    0.777   -0.9999  \n",
       "4         0.042636            0.400925     0.063     0.138    0.799   -0.9999  \n",
       "..             ...                 ...       ...       ...      ...       ...  \n",
       "84        0.088933            0.384712     0.077     0.133    0.790   -0.9999  \n",
       "85        0.026206            0.405185     0.063     0.137    0.800   -0.9999  \n",
       "86        0.069856            0.382764     0.089     0.162    0.749   -0.9999  \n",
       "87        0.061534            0.399726     0.085     0.143    0.772   -0.9999  \n",
       "88        0.072246            0.381265     0.070     0.135    0.795   -0.9999  \n",
       "\n",
       "[89 rows x 14 columns]"
      ]
     },
     "execution_count": 77,
     "metadata": {},
     "output_type": "execute_result"
    }
   ],
   "source": [
    "df"
   ]
  },
  {
   "cell_type": "code",
   "execution_count": 78,
   "metadata": {},
   "outputs": [],
   "source": [
    "stocks_news_df = final_df = df[['Close', 'polarity_score', 'negative', 'neutral', \n",
    "                                'positive', 'compound', 'subjectivity_score']]"
   ]
  },
  {
   "cell_type": "code",
   "execution_count": 80,
   "metadata": {},
   "outputs": [
    {
     "data": {
      "text/html": [
       "<div>\n",
       "<style scoped>\n",
       "    .dataframe tbody tr th:only-of-type {\n",
       "        vertical-align: middle;\n",
       "    }\n",
       "\n",
       "    .dataframe tbody tr th {\n",
       "        vertical-align: top;\n",
       "    }\n",
       "\n",
       "    .dataframe thead th {\n",
       "        text-align: right;\n",
       "    }\n",
       "</style>\n",
       "<table border=\"1\" class=\"dataframe\">\n",
       "  <thead>\n",
       "    <tr style=\"text-align: right;\">\n",
       "      <th></th>\n",
       "      <th>Close</th>\n",
       "      <th>polarity_score</th>\n",
       "      <th>negative</th>\n",
       "      <th>neutral</th>\n",
       "      <th>positive</th>\n",
       "      <th>compound</th>\n",
       "      <th>subjectivity_score</th>\n",
       "    </tr>\n",
       "  </thead>\n",
       "  <tbody>\n",
       "    <tr>\n",
       "      <th>0</th>\n",
       "      <td>41055.691406</td>\n",
       "      <td>0.056508</td>\n",
       "      <td>0.169</td>\n",
       "      <td>0.752</td>\n",
       "      <td>0.080</td>\n",
       "      <td>-0.9999</td>\n",
       "      <td>0.342316</td>\n",
       "    </tr>\n",
       "    <tr>\n",
       "      <th>1</th>\n",
       "      <td>40894.378906</td>\n",
       "      <td>0.078717</td>\n",
       "      <td>0.141</td>\n",
       "      <td>0.786</td>\n",
       "      <td>0.073</td>\n",
       "      <td>-0.9999</td>\n",
       "      <td>0.360463</td>\n",
       "    </tr>\n",
       "    <tr>\n",
       "      <th>2</th>\n",
       "      <td>41323.000000</td>\n",
       "      <td>0.041818</td>\n",
       "      <td>0.185</td>\n",
       "      <td>0.732</td>\n",
       "      <td>0.082</td>\n",
       "      <td>-1.0000</td>\n",
       "      <td>0.353285</td>\n",
       "    </tr>\n",
       "    <tr>\n",
       "      <th>3</th>\n",
       "      <td>41170.121094</td>\n",
       "      <td>0.068827</td>\n",
       "      <td>0.152</td>\n",
       "      <td>0.777</td>\n",
       "      <td>0.071</td>\n",
       "      <td>-0.9999</td>\n",
       "      <td>0.383781</td>\n",
       "    </tr>\n",
       "    <tr>\n",
       "      <th>4</th>\n",
       "      <td>40363.230469</td>\n",
       "      <td>0.042636</td>\n",
       "      <td>0.138</td>\n",
       "      <td>0.799</td>\n",
       "      <td>0.063</td>\n",
       "      <td>-0.9999</td>\n",
       "      <td>0.400925</td>\n",
       "    </tr>\n",
       "    <tr>\n",
       "      <th>...</th>\n",
       "      <td>...</td>\n",
       "      <td>...</td>\n",
       "      <td>...</td>\n",
       "      <td>...</td>\n",
       "      <td>...</td>\n",
       "      <td>...</td>\n",
       "      <td>...</td>\n",
       "    </tr>\n",
       "    <tr>\n",
       "      <th>84</th>\n",
       "      <td>34868.980469</td>\n",
       "      <td>0.088933</td>\n",
       "      <td>0.133</td>\n",
       "      <td>0.790</td>\n",
       "      <td>0.077</td>\n",
       "      <td>-0.9999</td>\n",
       "      <td>0.384712</td>\n",
       "    </tr>\n",
       "    <tr>\n",
       "      <th>85</th>\n",
       "      <td>34842.101563</td>\n",
       "      <td>0.026206</td>\n",
       "      <td>0.137</td>\n",
       "      <td>0.800</td>\n",
       "      <td>0.063</td>\n",
       "      <td>-0.9999</td>\n",
       "      <td>0.405185</td>\n",
       "    </tr>\n",
       "    <tr>\n",
       "      <th>86</th>\n",
       "      <td>35171.269531</td>\n",
       "      <td>0.069856</td>\n",
       "      <td>0.162</td>\n",
       "      <td>0.749</td>\n",
       "      <td>0.089</td>\n",
       "      <td>-0.9999</td>\n",
       "      <td>0.382764</td>\n",
       "    </tr>\n",
       "    <tr>\n",
       "      <th>87</th>\n",
       "      <td>34961.519531</td>\n",
       "      <td>0.061534</td>\n",
       "      <td>0.143</td>\n",
       "      <td>0.772</td>\n",
       "      <td>0.085</td>\n",
       "      <td>-0.9999</td>\n",
       "      <td>0.399726</td>\n",
       "    </tr>\n",
       "    <tr>\n",
       "      <th>88</th>\n",
       "      <td>34915.800781</td>\n",
       "      <td>0.072246</td>\n",
       "      <td>0.135</td>\n",
       "      <td>0.795</td>\n",
       "      <td>0.070</td>\n",
       "      <td>-0.9999</td>\n",
       "      <td>0.381265</td>\n",
       "    </tr>\n",
       "  </tbody>\n",
       "</table>\n",
       "<p>89 rows × 7 columns</p>\n",
       "</div>"
      ],
      "text/plain": [
       "           Close  polarity_score  negative  neutral  positive  compound  \\\n",
       "0   41055.691406        0.056508     0.169    0.752     0.080   -0.9999   \n",
       "1   40894.378906        0.078717     0.141    0.786     0.073   -0.9999   \n",
       "2   41323.000000        0.041818     0.185    0.732     0.082   -1.0000   \n",
       "3   41170.121094        0.068827     0.152    0.777     0.071   -0.9999   \n",
       "4   40363.230469        0.042636     0.138    0.799     0.063   -0.9999   \n",
       "..           ...             ...       ...      ...       ...       ...   \n",
       "84  34868.980469        0.088933     0.133    0.790     0.077   -0.9999   \n",
       "85  34842.101563        0.026206     0.137    0.800     0.063   -0.9999   \n",
       "86  35171.269531        0.069856     0.162    0.749     0.089   -0.9999   \n",
       "87  34961.519531        0.061534     0.143    0.772     0.085   -0.9999   \n",
       "88  34915.800781        0.072246     0.135    0.795     0.070   -0.9999   \n",
       "\n",
       "    subjectivity_score  \n",
       "0             0.342316  \n",
       "1             0.360463  \n",
       "2             0.353285  \n",
       "3             0.383781  \n",
       "4             0.400925  \n",
       "..                 ...  \n",
       "84            0.384712  \n",
       "85            0.405185  \n",
       "86            0.382764  \n",
       "87            0.399726  \n",
       "88            0.381265  \n",
       "\n",
       "[89 rows x 7 columns]"
      ]
     },
     "execution_count": 80,
     "metadata": {},
     "output_type": "execute_result"
    }
   ],
   "source": [
    "stocks_news_df"
   ]
  },
  {
   "cell_type": "markdown",
   "metadata": {},
   "source": [
    "## DECLARING LIBRARIES FOR TRAINING AND EVALUATING PURPOSE"
   ]
  },
  {
   "cell_type": "code",
   "execution_count": 120,
   "metadata": {},
   "outputs": [],
   "source": [
    "from sklearn.model_selection import train_test_split\n",
    "from sklearn import tree\n",
    "from sklearn import metrics\n",
    "import matplotlib.pyplot as plt"
   ]
  },
  {
   "cell_type": "code",
   "execution_count": 82,
   "metadata": {},
   "outputs": [],
   "source": [
    "# features\n",
    "X = stocks_news_df.iloc[:,1:].values\n",
    "\n",
    "# labels\n",
    "Y = stocks_news_df.iloc[:,0].values"
   ]
  },
  {
   "cell_type": "code",
   "execution_count": 83,
   "metadata": {},
   "outputs": [
    {
     "data": {
      "text/plain": [
       "(89, 6)"
      ]
     },
     "execution_count": 83,
     "metadata": {},
     "output_type": "execute_result"
    }
   ],
   "source": [
    "np.shape(X)"
   ]
  },
  {
   "cell_type": "code",
   "execution_count": 85,
   "metadata": {},
   "outputs": [
    {
     "data": {
      "text/plain": [
       "array([[ 0.05650808,  0.169     ,  0.752     ,  0.08      , -0.9999    ,\n",
       "         0.3423159 ],\n",
       "       [ 0.0787166 ,  0.141     ,  0.786     ,  0.073     , -0.9999    ,\n",
       "         0.36046347],\n",
       "       [ 0.04181781,  0.185     ,  0.732     ,  0.082     , -1.        ,\n",
       "         0.35328501],\n",
       "       [ 0.06882747,  0.152     ,  0.777     ,  0.071     , -0.9999    ,\n",
       "         0.3837808 ],\n",
       "       [ 0.04263609,  0.138     ,  0.799     ,  0.063     , -0.9999    ,\n",
       "         0.40092544]])"
      ]
     },
     "execution_count": 85,
     "metadata": {},
     "output_type": "execute_result"
    }
   ],
   "source": [
    "X[:5]"
   ]
  },
  {
   "cell_type": "code",
   "execution_count": 84,
   "metadata": {},
   "outputs": [
    {
     "data": {
      "text/plain": [
       "(89,)"
      ]
     },
     "execution_count": 84,
     "metadata": {},
     "output_type": "execute_result"
    }
   ],
   "source": [
    "np.shape(Y)"
   ]
  },
  {
   "cell_type": "code",
   "execution_count": 86,
   "metadata": {},
   "outputs": [
    {
     "data": {
      "text/plain": [
       "array([41055.691406, 40894.378906, 41323.      , 41170.121094,\n",
       "       40363.230469])"
      ]
     },
     "execution_count": 86,
     "metadata": {},
     "output_type": "execute_result"
    }
   ],
   "source": [
    "Y[:5]"
   ]
  },
  {
   "cell_type": "markdown",
   "metadata": {},
   "source": [
    "## Pre-Processing Data"
   ]
  },
  {
   "cell_type": "code",
   "execution_count": 136,
   "metadata": {},
   "outputs": [],
   "source": [
    "train_X,test_X,train_Y,test_Y = train_test_split(X,Y,test_size=0.20,random_state=0)"
   ]
  },
  {
   "cell_type": "markdown",
   "metadata": {},
   "source": [
    "## CREATING DECISION TREE REGRESSOR MODEL"
   ]
  },
  {
   "cell_type": "code",
   "execution_count": 137,
   "metadata": {},
   "outputs": [],
   "source": [
    "clf = tree.DecisionTreeRegressor().fit(train_X,train_Y)"
   ]
  },
  {
   "cell_type": "code",
   "execution_count": 138,
   "metadata": {},
   "outputs": [
    {
     "name": "stdout",
     "output_type": "stream",
     "text": [
      "coeffiecent of determination:  1.0\n"
     ]
    }
   ],
   "source": [
    "r_sq = clf.score(train_X,train_Y)\n",
    "print('coeffiecent of determination: ', r_sq)"
   ]
  },
  {
   "cell_type": "markdown",
   "metadata": {},
   "source": [
    "## EVALUATE DECISION TREE REGRESSOR"
   ]
  },
  {
   "cell_type": "code",
   "execution_count": 139,
   "metadata": {},
   "outputs": [],
   "source": [
    "pred_y=clf.predict(test_X)"
   ]
  },
  {
   "cell_type": "markdown",
   "metadata": {},
   "source": [
    "**COMPARING ACTUAL AND PREDICTED VALUES**"
   ]
  },
  {
   "cell_type": "code",
   "execution_count": 140,
   "metadata": {},
   "outputs": [
    {
     "data": {
      "image/png": "[encoded data removed]"
     },
     "metadata": {},
     "output_type": "display_data"
    }
   ],
   "source": [
    "fig = go.Figure()\n",
    "fig.add_trace(go.Bar(y=test_Y, name='Actual Closing Points'))\n",
    "fig.add_trace(go.Bar(y=pred_y, name='Predicted Closing Points'))\n",
    "fig.update_layout(title='Comparison between Actual and Predicted Closing')\n",
    "fig.show(\"png\")"
   ]
  },
  {
   "cell_type": "code",
   "execution_count": 141,
   "metadata": {},
   "outputs": [
    {
     "name": "stdout",
     "output_type": "stream",
     "text": [
      "Mean Absolute Error: 2854.5709635\n"
     ]
    }
   ],
   "source": [
    "print('Mean Absolute Error:', \n",
    "      metrics.mean_absolute_error(test_Y, pred_y))"
   ]
  },
  {
   "cell_type": "code",
   "execution_count": null,
   "metadata": {},
   "outputs": [],
   "source": [
    "## RANDOME"
   ]
  },
  {
   "cell_type": "code",
   "execution_count": 142,
   "metadata": {},
   "outputs": [],
   "source": [
    "from sklearn.ensemble import RandomForestRegressor\n",
    "\n",
    "rf = RandomForestRegressor().fit(train_X,train_Y)"
   ]
  },
  {
   "cell_type": "code",
   "execution_count": 143,
   "metadata": {},
   "outputs": [],
   "source": [
    "pred_Y=rf.predict(test_X)"
   ]
  },
  {
   "cell_type": "code",
   "execution_count": 144,
   "metadata": {},
   "outputs": [
    {
     "data": {
      "image/png": "[encoded data removed]"
     },
     "metadata": {},
     "output_type": "display_data"
    }
   ],
   "source": [
    "fig = go.Figure()\n",
    "fig.add_trace(go.Bar(y=test_Y, name='Actual Closing Points'))\n",
    "fig.add_trace(go.Bar(y=pred_Y, name='Predicted Closing Points'))\n",
    "fig.update_layout(title='Comparison between Actual and Predicted Closing')\n",
    "fig.show(\"png\")"
   ]
  },
  {
   "cell_type": "code",
   "execution_count": 146,
   "metadata": {},
   "outputs": [
    {
     "name": "stdout",
     "output_type": "stream",
     "text": [
      "Mean Absolute Error: 2487.810850823894\n"
     ]
    }
   ],
   "source": [
    "print('Mean Absolute Error:', \n",
    "      metrics.mean_absolute_error(test_Y, pred_Y))"
   ]
  },
  {
   "cell_type": "code",
   "execution_count": null,
   "metadata": {},
   "outputs": [],
   "source": []
  }
 ],
 "metadata": {
  "kernelspec": {
   "display_name": "Python 3",
   "language": "python",
   "name": "python3"
  },
  "language_info": {
   "codemirror_mode": {
    "name": "ipython",
    "version": 3
   },
   "file_extension": ".py",
   "mimetype": "text/x-python",
   "name": "python",
   "nbconvert_exporter": "python",
   "pygments_lexer": "ipython3",
   "version": "3.6.8"
  }
 },
 "nbformat": 4,
 "nbformat_minor": 4
}
